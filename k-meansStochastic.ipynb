{
 "cells": [
  {
   "cell_type": "code",
   "execution_count": 2,
   "metadata": {},
   "outputs": [
    {
     "data": {
      "text/plain": [
       "Text(0.5, 1.0, 'Scatter Plot')"
      ]
     },
     "execution_count": 2,
     "metadata": {},
     "output_type": "execute_result"
    },
    {
     "data": {
      "image/png": "[encoded data removed]",
      "text/plain": [
       "<Figure size 432x288 with 1 Axes>"
      ]
     },
     "metadata": {
      "needs_background": "light"
     },
     "output_type": "display_data"
    }
   ],
   "source": [
    "import pandas as pd\n",
    "import matplotlib.pyplot as plt\n",
    "\n",
    "from sklearn.preprocessing import LabelEncoder # convert labels to numbers\n",
    "\n",
    "\n",
    "ds = pd.read_csv('iris.csv')\n",
    "ax = ds[ds.Species=='Iris-setosa'].plot.scatter(x='SepalLengthCm', y='SepalWidthCm', \n",
    "                                                    color='red', label='Iris - Setosa')\n",
    "ds[ds.Species=='Iris-versicolor'].plot.scatter(x='SepalLengthCm', y='SepalWidthCm', \n",
    "                                                color='green', label='Iris - Versicolor', ax=ax)\n",
    "ds[ds.Species=='Iris-virginica'].plot.scatter(x='SepalLengthCm', y='SepalWidthCm', \n",
    "                                                color='blue', label='Iris - Virginica', ax=ax)\n",
    "ax.set_title(\"Scatter Plot\")"
   ]
  },
  {
   "cell_type": "code",
   "execution_count": 3,
   "metadata": {},
   "outputs": [],
   "source": [
    "encoder = LabelEncoder()\n",
    "ds['Species'] = encoder.fit_transform(ds['Species'])"
   ]
  },
  {
   "cell_type": "code",
   "execution_count": 4,
   "metadata": {},
   "outputs": [],
   "source": [
    "ds= ds.drop(['Id'], axis = 1)"
   ]
  },
  {
   "cell_type": "code",
   "execution_count": 5,
   "metadata": {},
   "outputs": [
    {
     "name": "stdout",
     "output_type": "stream",
     "text": [
      "(150, 5)\n",
      "(150,)\n"
     ]
    }
   ],
   "source": [
    "data = ds.values \n",
    "\n",
    "X=data [:, 0:5] # features\n",
    "Y= data [: , -1] # labels\n",
    "\n",
    "print(X.shape) # 150 samples, 4 features\n",
    "print(Y.shape) # 150 samples, 4 features\n"
   ]
  },
  {
   "cell_type": "code",
   "execution_count": 21,
   "metadata": {},
   "outputs": [
    {
     "name": "stdout",
     "output_type": "stream",
     "text": [
      "(112, 5)\n",
      "(112,)\n",
      "(38, 5)\n",
      "(38,)\n"
     ]
    }
   ],
   "source": [
    "#train-test split = 3:1 \n",
    "\n",
    "train_x = X[: 112, ] # 125 samples, 4 features\n",
    "train_y = Y[:112, ] # 125 samples, 1 feature\n",
    "\n",
    "test_x = X[112:, ] # 25 samples, 4 features\n",
    "test_y = Y[112:, ] # 25 samples, 1 feature\n",
    "\n",
    "print(train_x.shape)\n",
    "print(train_y.shape)\n",
    "print(test_x.shape)\n",
    "print(test_y.shape)"
   ]
  },
  {
   "cell_type": "code",
   "execution_count": 22,
   "metadata": {},
   "outputs": [],
   "source": [
    "### Confusion Matrix\n",
    "\n",
    "### Momentum K-means"
   ]
  },
  {
   "cell_type": "code",
   "execution_count": 34,
   "metadata": {},
   "outputs": [],
   "source": [
    "import numpy as np\n",
    "\n",
    "class StochasticKMeans:\n",
    "    def __init__(self, n_clusters=8, max_iter=300, random_state=11):\n",
    "        self.n_clusters = n_clusters \n",
    "        self.max_iter = max_iter \n",
    "        self.random_state = random_state # random seed\n",
    "    \n",
    "    def fit(self, train_x, train_y):\n",
    "        # Initialize centroids randomly\n",
    "        np.random.seed(self.random_state)\n",
    "        n_samples, n_features = train_x.shape # number of samples and number of features\n",
    "        self.centroids = train_x[np.random.choice(n_samples, self.n_clusters, replace=False)] # random centroids\n",
    "        \n",
    "        for i in range(self.max_iter):\n",
    "            # Assign samples to closest centroids (cluster labels)\n",
    "            distances = np.sqrt(((train_x[:, np.newaxis] - self.centroids) ** 2).sum(axis=2))\n",
    "            self.labels = np.argmin(distances, axis=1) # cluster label of each sample\n",
    "            \n",
    "            # Update centroids\n",
    "            for j in range(n_samples):\n",
    "                # Select a random sample\n",
    "                sample_idx = np.random.randint(n_samples) # random index\n",
    "                sample = train_x[sample_idx] # random sample will be used to update the centroid of the cluster to which it belongs\n",
    "                label = self.labels[sample_idx] # cluster label of the random sample \n",
    "                \n",
    "                # Update the centroid of the cluster to which the sample belongs\n",
    "                self.centroids[label] = (self.centroids[label] * (i * n_samples + j) + sample) / (i * n_samples + j + 1) # i * n_samples + j = number of samples seen so far\n",
    "                # Update using learning rate\n",
    "                # self.centroids[label] = self.centroids[label] + 0.1 * (sample - self.centroids[label])\n",
    "                \n",
    "    def predict(self, X):\n",
    "        distances = np.sqrt(((X[:, np.newaxis] - self.centroids) ** 2).sum(axis=2))\n",
    "        return np.argmin(distances, axis=1)"
   ]
  },
  {
   "cell_type": "code",
   "execution_count": 35,
   "metadata": {},
   "outputs": [],
   "source": [
    "# K-means clustering\n",
    "clus = StochasticKMeans(3)\n",
    "clus.fit(train_x, train_y)"
   ]
  },
  {
   "cell_type": "code",
   "execution_count": 36,
   "metadata": {},
   "outputs": [],
   "source": [
    "y_pred = clus.predict(test_x) # predict the cluster for a given point\n"
   ]
  },
  {
   "cell_type": "code",
   "execution_count": 37,
   "metadata": {},
   "outputs": [],
   "source": [
    "# make predictions on training data\n",
    "test_labels = clus.predict(train_x)"
   ]
  },
  {
   "cell_type": "code",
   "execution_count": 38,
   "metadata": {},
   "outputs": [
    {
     "name": "stdout",
     "output_type": "stream",
     "text": [
      "Training Accuracy:  83.03571428571429\n",
      "Testing Accuracy:  100.0\n"
     ]
    }
   ],
   "source": [
    "from sklearn.metrics import accuracy_score\n",
    "#training accuracy\n",
    "print(\"Training Accuracy: \", accuracy_score(train_y, test_labels)*100)\n",
    "\n",
    "#testing accuracy\n",
    "print(\"Testing Accuracy: \", accuracy_score(test_y, y_pred)*100)"
   ]
  },
  {
   "cell_type": "code",
   "execution_count": 33,
   "metadata": {},
   "outputs": [
    {
     "data": {
      "text/plain": [
       "array([0., 0., 0., 0., 0., 0., 0., 0., 0., 0., 0., 0., 0., 0., 0., 0., 0.,\n",
       "       0., 0., 0., 0., 0., 0., 0., 0., 0., 0., 0., 0., 0., 0., 0., 0., 0.,\n",
       "       0., 0., 0., 0., 0., 0., 0., 0., 0., 0., 0., 0., 0., 0., 0., 0., 1.,\n",
       "       1., 1., 1., 1., 1., 1., 1., 1., 1., 1., 1., 1., 1., 1., 1., 1., 1.,\n",
       "       1., 1., 1., 1., 1., 1., 1., 1., 1., 1., 1., 1., 1., 1., 1., 1., 1.,\n",
       "       1., 1., 1., 1., 1., 1., 1., 1., 1., 1., 1., 1., 1., 1., 1., 2., 2.,\n",
       "       2., 2., 2., 2., 2., 2., 2., 2., 2., 2.])"
      ]
     },
     "execution_count": 33,
     "metadata": {},
     "output_type": "execute_result"
    }
   ],
   "source": [
    "# test_labels\n",
    "train_y"
   ]
  },
  {
   "cell_type": "code",
   "execution_count": 39,
   "metadata": {},
   "outputs": [
    {
     "name": "stdout",
     "output_type": "stream",
     "text": [
      "              precision    recall  f1-score   support\n",
      "\n",
      "         0.0       1.00      1.00      1.00        50\n",
      "         1.0       0.97      0.64      0.77        50\n",
      "         2.0       0.38      0.92      0.54        12\n",
      "\n",
      "    accuracy                           0.83       112\n",
      "   macro avg       0.78      0.85      0.77       112\n",
      "weighted avg       0.92      0.83      0.85       112\n",
      "\n"
     ]
    }
   ],
   "source": [
    "from sklearn.metrics import classification_report\n",
    "\n",
    "#classification report for training set \n",
    "print(classification_report(train_y, test_labels))"
   ]
  },
  {
   "cell_type": "code",
   "execution_count": null,
   "metadata": {},
   "outputs": [],
   "source": []
  }
 ],
 "metadata": {
  "kernelspec": {
   "display_name": "Python 3",
   "language": "python",
   "name": "python3"
  },
  "language_info": {
   "codemirror_mode": {
    "name": "ipython",
    "version": 3
   },
   "file_extension": ".py",
   "mimetype": "text/x-python",
   "name": "python",
   "nbconvert_exporter": "python",
   "pygments_lexer": "ipython3",
   "version": "3.9.1"
  },
  "orig_nbformat": 4,
  "vscode": {
   "interpreter": {
    "hash": "aee8b7b246df8f9039afb4144a1f6fd8d2ca17a180786b69acc140d282b71a49"
   }
  }
 },
 "nbformat": 4,
 "nbformat_minor": 2
}
